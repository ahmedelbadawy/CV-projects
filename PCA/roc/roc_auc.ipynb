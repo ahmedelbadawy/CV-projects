{
 "cells": [
  {
   "cell_type": "code",
   "execution_count": 1,
   "metadata": {},
   "outputs": [],
   "source": [
    "import os\n",
    "import cv2\n",
    "import numpy as np\n",
    "from sklearn import preprocessing\n",
    "def train_data(data_path,eigen_faces_num):\n",
    "    train_images = []\n",
    "    images = []\n",
    "    for filename in os.scandir(data_path):\n",
    "        if filename.is_file():\n",
    "            img = cv2.imread(filename.path,cv2.IMREAD_GRAYSCALE)\n",
    "            images.append(filename.path)\n",
    "            flatten_img = img.flatten()\n",
    "            train_images.append(flatten_img)\n",
    "    train_images = np.array(train_images)\n",
    "    mean_img = np.sum(train_images,axis=0,dtype='float64')/train_images.shape[0]\n",
    "    zero_mean_train = train_images - mean_img\n",
    "    cov_matrix = zero_mean_train.dot(zero_mean_train.T)/train_images.shape[0]\n",
    "    eigenvalues,eigenvectors = np.linalg.eig(cov_matrix)\n",
    "    indices = eigenvalues.argsort()[::-1]\n",
    "    eigenvalues = eigenvalues[indices]\n",
    "    eigenvectors = eigenvectors[:,indices]\n",
    "    images_projection = zero_mean_train.T.dot(eigenvectors)\n",
    "    eigen_faces = preprocessing.normalize(images_projection.T)\n",
    "    projections = []\n",
    "    for i in range(train_images.shape[0]):\n",
    "        projections.append(eigen_faces[:eigen_faces_num].dot(zero_mean_train[i]))\n",
    "    return projections,mean_img,eigen_faces,images"
   ]
  },
  {
   "cell_type": "code",
   "execution_count": 2,
   "metadata": {},
   "outputs": [],
   "source": [
    "import math\n",
    "def recog_face(test_path,projections,mean_img,eigen_faces,images,eigen_faces_num,thres):\n",
    "    test = cv2.imread(test_path,cv2.IMREAD_GRAYSCALE)\n",
    "    flatten_test = test.flatten()\n",
    "    zero_mean_test = flatten_test - mean_img\n",
    "\n",
    "    E = eigen_faces[:eigen_faces_num].dot(zero_mean_test)\n",
    "    test_projected = eigen_faces[:eigen_faces_num].T.dot(E)\n",
    "    diff = zero_mean_test-test_projected\n",
    "    beta = math.sqrt(diff.dot(diff))\n",
    "    #if beta<thres:\n",
    "    #        print(\"Face Detected in the image!\")\n",
    "    #else:\n",
    "    #    print(\"No face Detected in the image!\")\n",
    "    smallest_dist = None # to keep track of the smallest value\n",
    "    img_idx = 0 #to keep track of the class that produces the smallest value\n",
    "    #Calculate and represent the vectors of the image in the dataset\n",
    "    for z in range(len(projections)):\n",
    "        diff = E-projections[z]\n",
    "        imgs_dist = math.sqrt(diff.dot(diff))\n",
    "        if smallest_dist==None:\n",
    "                smallest_dist=imgs_dist\n",
    "                img_idx = z\n",
    "        if smallest_dist>imgs_dist:\n",
    "            smallest_dist=imgs_dist\n",
    "            img_idx=z\n",
    "    return images[img_idx]\n"
   ]
  },
  {
   "cell_type": "code",
   "execution_count": 3,
   "metadata": {},
   "outputs": [],
   "source": [
    "\n",
    "def sen_spec(ls,cls,h):\n",
    "    # tn\n",
    "    newarr = np.ones((h,h))\n",
    "    newarr[cls][:] = 0\n",
    "    for i in range(h):\n",
    "        newarr[i][cls] = 0\n",
    "    tn = np.sum(np.array(ls) * np.array(newarr))\n",
    "\n",
    "    #fp\n",
    "    newarr = np.zeros((h,h))\n",
    "\n",
    "    for i in range(h):\n",
    "        if i !=cls:\n",
    "            newarr[i][cls] = 1\n",
    "    fp = np.sum(np.array(ls) * np.array(newarr)) \n",
    "\n",
    "    #fn\n",
    "    newarr = np.zeros((h,h))\n",
    "    for i in range(h):\n",
    "        if i !=cls:\n",
    "            newarr[cls][i] = 1\n",
    "    fn = np.sum(np.array(ls) * np.array(newarr))\n",
    "\n",
    "    #tp\n",
    "    tp = ls[cls][cls]\n",
    "    sensitivity = tp/(tp+fn)\n",
    "    spec = tn/(tn+fp)\n",
    "    #print(spec,sensitivity)\n",
    "    #print(tp,tn,fp,fn)\n",
    "    return sensitivity,(1-spec)\n"
   ]
  },
  {
   "cell_type": "code",
   "execution_count": 4,
   "metadata": {},
   "outputs": [
    {
     "name": "stdout",
     "output_type": "stream",
     "text": [
      "1.0\n",
      "0.7857142857142857\n",
      "0.9761904761904762\n",
      "0.9523809523809523\n"
     ]
    },
    {
     "data": {
      "image/png": "[encoded data removed]",
      "text/plain": [
       "<Figure size 432x288 with 1 Axes>"
      ]
     },
     "metadata": {
      "needs_background": "light"
     },
     "output_type": "display_data"
    }
   ],
   "source": [
    "import re\n",
    "c = ['b','g','r','c']\n",
    "import matplotlib.pyplot as plt\n",
    "x= []\n",
    "y=[]\n",
    "xfin=[]\n",
    "yfin=[]\n",
    "lst= np.zeros((4,4))\n",
    "for n in range(0,4):\n",
    "    x.append(0)\n",
    "    y.append(0)\n",
    "    for m in range(10,10000,50):\n",
    "        projections,mean_img,eigen_faces,images = train_data(\"Dataset/train\",m)\n",
    "        for filename in os.scandir(\"Dataset/test\"):\n",
    "            if filename.is_file():\n",
    "                actual = filename.path\n",
    "                pred = recog_face(actual,projections,mean_img,eigen_faces,images,m,1000)\n",
    "                act_ind =int(re.findall('[0-4]+', actual)[0])\n",
    "                pred_ind =int(re.findall('[0-4]+', pred)[0])\n",
    "                lst[act_ind][pred_ind] = lst[act_ind][pred_ind] + 1      #  actual pred\n",
    "        np.savetxt('test.out', lst, delimiter='\\t')\n",
    "        sen,specs = sen_spec(lst,n,4)\n",
    "        x.append(specs)\n",
    "        y.append(sen)\n",
    "        lst= np.zeros((4,4))\n",
    "    x.append(1)\n",
    "    y.append(1)\n",
    "    xfin.append(x)\n",
    "    yfin.append(y)\n",
    "    plt.plot(x,y,color=c[n],label=str(n))\n",
    "    print(np.trapz(y,x, axis=0))\n",
    "    x=[]\n",
    "    y=[]\n",
    "\n",
    "plt.legend()\n",
    "plt.show()\n"
   ]
  }
 ],
 "metadata": {
  "interpreter": {
   "hash": "916dbcbb3f70747c44a77c7bcd40155683ae19c65e1c03b4aa3499c5328201f1"
  },
  "kernelspec": {
   "display_name": "Python 3.8.10 64-bit",
   "language": "python",
   "name": "python3"
  },
  "language_info": {
   "codemirror_mode": {
    "name": "ipython",
    "version": 3
   },
   "file_extension": ".py",
   "mimetype": "text/x-python",
   "name": "python",
   "nbconvert_exporter": "python",
   "pygments_lexer": "ipython3",
   "version": "3.8.10"
  },
  "orig_nbformat": 4
 },
 "nbformat": 4,
 "nbformat_minor": 2
}
